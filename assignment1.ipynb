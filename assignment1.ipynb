{
  "nbformat": 4,
  "nbformat_minor": 0,
  "metadata": {
    "colab": {
      "name": "assignment1.ipynb",
      "version": "0.3.2",
      "provenance": [],
      "collapsed_sections": [],
      "include_colab_link": true
    },
    "kernelspec": {
      "name": "python3",
      "display_name": "Python 3"
    }
  },
  "cells": [
    {
      "cell_type": "markdown",
      "metadata": {
        "id": "view-in-github",
        "colab_type": "text"
      },
      "source": [
        "<a href=\"https://colab.research.google.com/github/rn597959/Java2/blob/master/assignment1.ipynb\" target=\"_parent\"><img src=\"https://colab.research.google.com/assets/colab-badge.svg\" alt=\"Open In Colab\"/></a>"
      ]
    },
    {
      "cell_type": "code",
      "metadata": {
        "id": "sR6AEXpLdqyc",
        "colab_type": "code",
        "colab": {
          "base_uri": "https://localhost:8080/",
          "height": 34
        },
        "outputId": "e286b81d-9ea9-47d2-cbe0-35d5f20e2ab6"
      },
      "source": [
        "import numpy as np\n",
        "def get_gradients (x , y , w , b , l =0.01):\n",
        "    grad_w=0\n",
        "    grad_b=0\n",
        "    for i in range(len(x)):\n",
        "      grad_w = grad_w + x[i]*(w[i]*x[i]+b-y[i])\n",
        "      grad_b = grad_b + (w[i]*x[i]+b-y[i])\n",
        "    grad_w = l * (1/len(x)) * grad_w\n",
        "    grad_b = l * (1/len(x)) * grad_b\n",
        "    return grad_w,grad_b\n",
        "  \n",
        "  \n",
        "get_gradients (x=[1,2,3,4,5] , y=[1,2,3,4,5] , w=[1,2,3,4,5] , b=2 , l =0.01)"
      ],
      "execution_count": 8,
      "outputs": [
        {
          "output_type": "execute_result",
          "data": {
            "text/plain": [
              "(0.4, 0.1)"
            ]
          },
          "metadata": {
            "tags": []
          },
          "execution_count": 8
        }
      ]
    },
    {
      "cell_type": "markdown",
      "metadata": {
        "id": "tFfaB2a8IGsW",
        "colab_type": "text"
      },
      "source": [
        "Question2\n",
        "\n",
        "The \n",
        "\n"
      ]
    }
  ]
}